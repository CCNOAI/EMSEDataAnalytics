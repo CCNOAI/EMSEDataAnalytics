{
 "cells": [
  {
   "cell_type": "markdown",
   "metadata": {},
   "source": [
    "## Portfolios and Setup\n",
    "\n",
    "Download portfolio template from Github\n",
    "https://github.com/bsharve/bsharve.github.io\n",
    "\n",
    "Create a github account\n",
    "https://github.com/\n",
    "\n",
    "Create a repository with your username in the within the name of the repository for example: \"username.github.io\" \n",
    "Upload bsharve.github.io zip file to the new username.github.io repository\n",
    "\n",
    "Download and Install Anaconda\n",
    "https://www.anaconda.com/download/\n",
    "\n",
    "Download and Install Github Desktop \n",
    "https://desktop.github.com/\n",
    "\n",
    "Download and Install Atom IDE\n",
    "https://atom.io/\n",
    "\n",
    "Go to https://username.github.io/ to check and see if the github installation worked correctly\n",
    "\n",
    "There are two ways to edit the portfolios:\n",
    " - Directly within github\n",
    " - Using Github Desktop\n",
    " \n",
    "To edit the portfolio directly within github, go to your https://github.com/username/username.github.io and click directly on the files that you would like to edit.\n",
    "\n",
    "To edit the portolio using Github Desktop, once you have downloaded and installed Github Desktop, go to the file menu and select \"clone repository.\"   This will enable you to clone the Github repository \"username/username.github.io\" to your local computer (make sure to keep track of what directly you cloned the repository to). \n",
    "\n",
    "After you clone the repository you can either use the Atome IDE or any other IDE to edit the files. After you edit a file in the cloned repository, the Github IDE automatically tracks changes that are made. Once changes to the local repository are made, you must push those changes to the repository hosted on Github.  In order to do this, after you edit a file, go back to the Github Desktop and on the left had side of the application you should see \"changed files.\"  This is where the Github Desktop application has been tracking changes made to the local repository.  \n",
    "\n",
    "The next step after changes have been made is to push them to the repository hosted on Github. To do this, you must add a description of the edits to the \"Summary\" text box located on the left lower side of the Github Desktop application and the press the \"Commit to Master\" button on the "
   ]
  }
 ],
 "metadata": {
  "kernelspec": {
   "display_name": "Python 3",
   "language": "python",
   "name": "python3"
  },
  "language_info": {
   "codemirror_mode": {
    "name": "ipython",
    "version": 3
   },
   "file_extension": ".py",
   "mimetype": "text/x-python",
   "name": "python",
   "nbconvert_exporter": "python",
   "pygments_lexer": "ipython3",
   "version": "3.6.1"
  }
 },
 "nbformat": 4,
 "nbformat_minor": 2
}
